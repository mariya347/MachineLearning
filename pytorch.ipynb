{
  "nbformat": 4,
  "nbformat_minor": 0,
  "metadata": {
    "colab": {
      "provenance": [],
      "gpuType": "T4",
      "authorship_tag": "ABX9TyNxt+qW8rCE5tIZmasrL3Ed",
      "include_colab_link": true
    },
    "kernelspec": {
      "name": "python3",
      "display_name": "Python 3"
    },
    "language_info": {
      "name": "python"
    },
    "accelerator": "GPU"
  },
  "cells": [
    {
      "cell_type": "markdown",
      "metadata": {
        "id": "view-in-github",
        "colab_type": "text"
      },
      "source": [
        "<a href=\"https://colab.research.google.com/github/mariya347/MachineLearning/blob/main/pytorch.ipynb\" target=\"_parent\"><img src=\"https://colab.research.google.com/assets/colab-badge.svg\" alt=\"Open In Colab\"/></a>"
      ]
    },
    {
      "cell_type": "code",
      "execution_count": null,
      "metadata": {
        "colab": {
          "base_uri": "https://localhost:8080/"
        },
        "id": "M1vG57jtkKze",
        "outputId": "d8a92bcf-2b13-4aa2-9e5b-0c34b1cdb2eb"
      },
      "outputs": [
        {
          "output_type": "stream",
          "name": "stdout",
          "text": [
            "2.2.1+cu121\n"
          ]
        }
      ],
      "source": [
        "import torch\n",
        "import numpy as np\n",
        "import pandas as pd\n",
        "import matplotlib.pyplot as plt\n",
        "import torchvision.transforms as transforms\n",
        "print(torch.__version__)"
      ]
    },
    {
      "cell_type": "code",
      "source": [
        "#A scalar is a single number and in tensor-speak it's a zero dimension tensor.\n",
        "scalar = torch.tensor(7)\n",
        "scalar"
      ],
      "metadata": {
        "colab": {
          "base_uri": "https://localhost:8080/"
        },
        "id": "t90Jh5vHmlBe",
        "outputId": "61ec0a6a-0896-4089-b01d-2b9b6c5add87"
      },
      "execution_count": null,
      "outputs": [
        {
          "output_type": "execute_result",
          "data": {
            "text/plain": [
              "tensor(7)"
            ]
          },
          "metadata": {},
          "execution_count": 2
        }
      ]
    },
    {
      "cell_type": "code",
      "source": [
        "#how many dimensions the array have.\n",
        "scalar.ndim"
      ],
      "metadata": {
        "colab": {
          "base_uri": "https://localhost:8080/"
        },
        "id": "vj8O_NZ1n8FY",
        "outputId": "a16482ed-7f3d-4ce5-c708-edaa727efbb0"
      },
      "execution_count": null,
      "outputs": [
        {
          "output_type": "execute_result",
          "data": {
            "text/plain": [
              "0"
            ]
          },
          "metadata": {},
          "execution_count": 3
        }
      ]
    },
    {
      "cell_type": "code",
      "source": [
        "scalar.item()"
      ],
      "metadata": {
        "colab": {
          "base_uri": "https://localhost:8080/"
        },
        "id": "fE4oP7vguRcf",
        "outputId": "0627e167-84b9-4022-b4e5-4a79cccfd627"
      },
      "execution_count": null,
      "outputs": [
        {
          "output_type": "execute_result",
          "data": {
            "text/plain": [
              "7"
            ]
          },
          "metadata": {},
          "execution_count": 4
        }
      ]
    },
    {
      "cell_type": "code",
      "source": [
        "#vectors are represented as 1-dimensional tensors\n",
        "vector = torch.tensor([7,7,7])\n",
        "vector"
      ],
      "metadata": {
        "colab": {
          "base_uri": "https://localhost:8080/"
        },
        "id": "pEXuPj-gujpu",
        "outputId": "18bbe159-b4e9-4259-fa9d-cd984a7d5233"
      },
      "execution_count": null,
      "outputs": [
        {
          "output_type": "execute_result",
          "data": {
            "text/plain": [
              "tensor([7, 7, 7])"
            ]
          },
          "metadata": {},
          "execution_count": 12
        }
      ]
    },
    {
      "cell_type": "code",
      "source": [
        "vector.ndim"
      ],
      "metadata": {
        "colab": {
          "base_uri": "https://localhost:8080/"
        },
        "id": "sHWKLXZfusZy",
        "outputId": "afc82598-4a26-4e33-d3ed-13a0377a5b8a"
      },
      "execution_count": null,
      "outputs": [
        {
          "output_type": "execute_result",
          "data": {
            "text/plain": [
              "1"
            ]
          },
          "metadata": {},
          "execution_count": 8
        }
      ]
    },
    {
      "cell_type": "code",
      "source": [
        "vector.shape"
      ],
      "metadata": {
        "colab": {
          "base_uri": "https://localhost:8080/"
        },
        "id": "zdzZLcK4vjNx",
        "outputId": "d551be26-0242-4b31-cb7c-952981ed1cc2"
      },
      "execution_count": null,
      "outputs": [
        {
          "output_type": "execute_result",
          "data": {
            "text/plain": [
              "torch.Size([3])"
            ]
          },
          "metadata": {},
          "execution_count": 13
        }
      ]
    },
    {
      "cell_type": "code",
      "source": [
        "#matrix has 2-dimensions\n",
        "MATRIX = torch.tensor([[1,2,3], [4,5,6], [1,2,3]])\n",
        "MATRIX"
      ],
      "metadata": {
        "colab": {
          "base_uri": "https://localhost:8080/"
        },
        "id": "DOigpBmWxEs4",
        "outputId": "3b594a2a-7802-40d5-8f6d-4dfb6676781d"
      },
      "execution_count": null,
      "outputs": [
        {
          "output_type": "execute_result",
          "data": {
            "text/plain": [
              "tensor([[1, 2, 3],\n",
              "        [4, 5, 6],\n",
              "        [1, 2, 3]])"
            ]
          },
          "metadata": {},
          "execution_count": 7
        }
      ]
    },
    {
      "cell_type": "code",
      "source": [
        "MATRIX.ndim"
      ],
      "metadata": {
        "colab": {
          "base_uri": "https://localhost:8080/"
        },
        "id": "dli2bg1Kxv-q",
        "outputId": "dc602bd8-1947-4370-f18e-1072e7e1d857"
      },
      "execution_count": null,
      "outputs": [
        {
          "output_type": "execute_result",
          "data": {
            "text/plain": [
              "2"
            ]
          },
          "metadata": {},
          "execution_count": 8
        }
      ]
    },
    {
      "cell_type": "code",
      "source": [
        "MATRIX.shape"
      ],
      "metadata": {
        "colab": {
          "base_uri": "https://localhost:8080/"
        },
        "id": "fBGnYE6SyOrT",
        "outputId": "bb67b2e2-1bc5-46d7-a67e-34a5139a45c8"
      },
      "execution_count": null,
      "outputs": [
        {
          "output_type": "execute_result",
          "data": {
            "text/plain": [
              "torch.Size([2, 3])"
            ]
          },
          "metadata": {},
          "execution_count": 16
        }
      ]
    },
    {
      "cell_type": "code",
      "source": [
        "MATRIX[1]"
      ],
      "metadata": {
        "colab": {
          "base_uri": "https://localhost:8080/"
        },
        "id": "gxCEBrMUyXgs",
        "outputId": "7f98342c-6fb8-48ec-a19d-659da9664a84"
      },
      "execution_count": null,
      "outputs": [
        {
          "output_type": "execute_result",
          "data": {
            "text/plain": [
              "tensor([4, 5, 6])"
            ]
          },
          "metadata": {},
          "execution_count": 17
        }
      ]
    },
    {
      "cell_type": "code",
      "source": [
        "TENSOR = torch.tensor([ [[1, 2, 3,7],\n",
        "                         [3, 6, 9,7],\n",
        "                         [2, 4, 5,7]\n",
        "                        ],\n",
        "                        [\n",
        "                         [1, 2, 3,7],\n",
        "                         [3, 6, 9,7],\n",
        "                         [2, 4, 5,7]\n",
        "                        ]\n",
        "                        ]\n",
        "                      )\n",
        "TENSOR"
      ],
      "metadata": {
        "colab": {
          "base_uri": "https://localhost:8080/"
        },
        "id": "ijP7CxSLz_Dp",
        "outputId": "615768d9-9dd8-4faf-f548-04835e31a498"
      },
      "execution_count": null,
      "outputs": [
        {
          "output_type": "execute_result",
          "data": {
            "text/plain": [
              "tensor([[[1, 2, 3, 7],\n",
              "         [3, 6, 9, 7],\n",
              "         [2, 4, 5, 7]],\n",
              "\n",
              "        [[1, 2, 3, 7],\n",
              "         [3, 6, 9, 7],\n",
              "         [2, 4, 5, 7]]])"
            ]
          },
          "metadata": {},
          "execution_count": 14
        }
      ]
    },
    {
      "cell_type": "code",
      "source": [
        "#square brackets\n",
        "TENSOR.ndim"
      ],
      "metadata": {
        "colab": {
          "base_uri": "https://localhost:8080/"
        },
        "id": "pJ7t-hcrt_Ca",
        "outputId": "3a23b2eb-5612-482c-b368-008b385ba75b"
      },
      "execution_count": null,
      "outputs": [
        {
          "output_type": "execute_result",
          "data": {
            "text/plain": [
              "3"
            ]
          },
          "metadata": {},
          "execution_count": 6
        }
      ]
    },
    {
      "cell_type": "code",
      "source": [
        "TENSOR.shape"
      ],
      "metadata": {
        "colab": {
          "base_uri": "https://localhost:8080/"
        },
        "id": "16R6VVeSuQ7B",
        "outputId": "12efe12a-23c4-4260-d6d1-3c7da45e437d"
      },
      "execution_count": null,
      "outputs": [
        {
          "output_type": "execute_result",
          "data": {
            "text/plain": [
              "torch.Size([2, 3, 4])"
            ]
          },
          "metadata": {},
          "execution_count": 15
        }
      ]
    },
    {
      "cell_type": "code",
      "source": [
        "TENSOR[0,1,1]"
      ],
      "metadata": {
        "colab": {
          "base_uri": "https://localhost:8080/"
        },
        "id": "4Rll791r1RcT",
        "outputId": "55c88be4-5dfb-4d54-e6c3-8763e3e81961"
      },
      "execution_count": null,
      "outputs": [
        {
          "output_type": "execute_result",
          "data": {
            "text/plain": [
              "tensor(6)"
            ]
          },
          "metadata": {},
          "execution_count": 18
        }
      ]
    },
    {
      "cell_type": "code",
      "source": [
        "rand_tensor = torch.rand(size=(3,3,3))\n",
        "rand_tensor"
      ],
      "metadata": {
        "colab": {
          "base_uri": "https://localhost:8080/"
        },
        "id": "Vhm9fkhy1-VP",
        "outputId": "3ecef756-32f5-4a9f-800f-641a6de576d0"
      },
      "execution_count": null,
      "outputs": [
        {
          "output_type": "execute_result",
          "data": {
            "text/plain": [
              "tensor([[[0.2180, 0.9247, 0.3049],\n",
              "         [0.3447, 0.9092, 0.0301],\n",
              "         [0.4883, 0.2844, 0.3311]],\n",
              "\n",
              "        [[0.5781, 0.5061, 0.1666],\n",
              "         [0.5875, 0.5372, 0.2665],\n",
              "         [0.5193, 0.0236, 0.1634]],\n",
              "\n",
              "        [[0.7207, 0.0161, 0.2187],\n",
              "         [0.8478, 0.7070, 0.5898],\n",
              "         [0.1243, 0.4607, 0.7279]]])"
            ]
          },
          "metadata": {},
          "execution_count": 21
        }
      ]
    },
    {
      "cell_type": "code",
      "source": [
        "#[height, width, color_channels]\n",
        "image = torch.rand(size = (244,244,3))\n",
        "image"
      ],
      "metadata": {
        "colab": {
          "base_uri": "https://localhost:8080/"
        },
        "id": "Yd-qOI2GABz2",
        "outputId": "4fc67f04-d8e8-4ad9-df95-a5b596237c88"
      },
      "execution_count": null,
      "outputs": [
        {
          "output_type": "execute_result",
          "data": {
            "text/plain": [
              "tensor([[[0.8992, 0.9879, 0.7302],\n",
              "         [0.0597, 0.6000, 0.1084],\n",
              "         [0.3518, 0.8344, 0.0742],\n",
              "         ...,\n",
              "         [0.1704, 0.0345, 0.4006],\n",
              "         [0.4061, 0.7127, 0.2022],\n",
              "         [0.5772, 0.7490, 0.9854]],\n",
              "\n",
              "        [[0.6634, 0.5388, 0.6474],\n",
              "         [0.5606, 0.0428, 0.4736],\n",
              "         [0.3653, 0.8213, 0.3451],\n",
              "         ...,\n",
              "         [0.9837, 0.5293, 0.3006],\n",
              "         [0.4621, 0.0574, 0.5778],\n",
              "         [0.1860, 0.7527, 0.4621]],\n",
              "\n",
              "        [[0.1863, 0.4881, 0.7828],\n",
              "         [0.4754, 0.0325, 0.9927],\n",
              "         [0.2476, 0.0237, 0.2033],\n",
              "         ...,\n",
              "         [0.2839, 0.5492, 0.4335],\n",
              "         [0.0179, 0.7043, 0.8447],\n",
              "         [0.4572, 0.2412, 0.8079]],\n",
              "\n",
              "        ...,\n",
              "\n",
              "        [[0.3602, 0.0926, 0.1313],\n",
              "         [0.6938, 0.6845, 0.6845],\n",
              "         [0.3270, 0.0476, 0.8101],\n",
              "         ...,\n",
              "         [0.0122, 0.8008, 0.5228],\n",
              "         [0.1818, 0.9455, 0.6102],\n",
              "         [0.8983, 0.2898, 0.7376]],\n",
              "\n",
              "        [[0.1646, 0.8747, 0.1163],\n",
              "         [0.5962, 0.0165, 0.0947],\n",
              "         [0.6599, 0.7730, 0.2374],\n",
              "         ...,\n",
              "         [0.8523, 0.5370, 0.3639],\n",
              "         [0.6486, 0.0832, 0.9676],\n",
              "         [0.7000, 0.0820, 0.5323]],\n",
              "\n",
              "        [[0.6834, 0.9669, 0.3159],\n",
              "         [0.5193, 0.7527, 0.7329],\n",
              "         [0.1594, 0.5311, 0.8655],\n",
              "         ...,\n",
              "         [0.4056, 0.7110, 0.1911],\n",
              "         [0.1947, 0.1151, 0.5623],\n",
              "         [0.6406, 0.5757, 0.6616]]])"
            ]
          },
          "metadata": {},
          "execution_count": 22
        }
      ]
    },
    {
      "cell_type": "code",
      "source": [
        "image.ndim"
      ],
      "metadata": {
        "colab": {
          "base_uri": "https://localhost:8080/"
        },
        "id": "hzegXefXOtkd",
        "outputId": "d701fe1c-93cc-4f9a-f506-a16b53809411"
      },
      "execution_count": null,
      "outputs": [
        {
          "output_type": "execute_result",
          "data": {
            "text/plain": [
              "3"
            ]
          },
          "metadata": {},
          "execution_count": 23
        }
      ]
    },
    {
      "cell_type": "code",
      "source": [
        "image.shape"
      ],
      "metadata": {
        "colab": {
          "base_uri": "https://localhost:8080/"
        },
        "id": "qMdhDyd1O3bV",
        "outputId": "21cef55e-a702-4907-dd53-c96b4f59104d"
      },
      "execution_count": null,
      "outputs": [
        {
          "output_type": "execute_result",
          "data": {
            "text/plain": [
              "torch.Size([244, 244, 3])"
            ]
          },
          "metadata": {},
          "execution_count": 24
        }
      ]
    },
    {
      "cell_type": "code",
      "source": [
        "# Random tensor with shape (3, 244, 244)\n",
        "tensor = torch.tensor([\n",
        "    [\n",
        "        [0, 120, 150],  # First row of pixel intensities\n",
        "        [80, 180, 200],   # Second row\n",
        "        [50, 70, 0]      # Third row\n",
        "    ]\n",
        "])\n",
        "\n",
        "# Convert tensor to uint8 type\n",
        "tensor = tensor.to(torch.uint8)\n",
        "\n",
        "# Define transforms to convert tensor to PIL Image\n",
        "tensor_to_image = transforms.ToPILImage()\n",
        "\n",
        "# Convert tensor to image\n",
        "image = tensor_to_image(tensor)\n",
        "\n",
        "# Display the image\n",
        "plt.imshow(image)\n",
        "plt.axis('off')\n",
        "plt.show()"
      ],
      "metadata": {
        "colab": {
          "base_uri": "https://localhost:8080/",
          "height": 406
        },
        "id": "yPn_o-LvPaZR",
        "outputId": "ace1f2d4-ac71-4058-f496-c3fa71f69e72"
      },
      "execution_count": null,
      "outputs": [
        {
          "output_type": "display_data",
          "data": {
            "text/plain": [
              "<Figure size 640x480 with 1 Axes>"
            ],
            "image/png": "[encoded data removed]"
          },
          "metadata": {}
        }
      ]
    },
    {
      "cell_type": "code",
      "source": [
        "zeros = torch.zeros(size=(2,3,4))\n",
        "zeros"
      ],
      "metadata": {
        "colab": {
          "base_uri": "https://localhost:8080/"
        },
        "id": "sDeKN2bHqxba",
        "outputId": "6ae0da92-7cd7-4d74-bfa3-fb24b985389a"
      },
      "execution_count": null,
      "outputs": [
        {
          "output_type": "execute_result",
          "data": {
            "text/plain": [
              "tensor([[[0., 0., 0., 0.],\n",
              "         [0., 0., 0., 0.],\n",
              "         [0., 0., 0., 0.]],\n",
              "\n",
              "        [[0., 0., 0., 0.],\n",
              "         [0., 0., 0., 0.],\n",
              "         [0., 0., 0., 0.]]])"
            ]
          },
          "metadata": {},
          "execution_count": 46
        }
      ]
    },
    {
      "cell_type": "code",
      "source": [
        "zeros.dtype"
      ],
      "metadata": {
        "colab": {
          "base_uri": "https://localhost:8080/"
        },
        "id": "Sa2i_zYYdm--",
        "outputId": "d09f5766-5b3a-4362-c85e-e42f844d4565"
      },
      "execution_count": null,
      "outputs": [
        {
          "output_type": "execute_result",
          "data": {
            "text/plain": [
              "torch.float32"
            ]
          },
          "metadata": {},
          "execution_count": 48
        }
      ]
    },
    {
      "cell_type": "code",
      "source": [
        "ones = torch.ones(size=(2,3,4))\n",
        "ones"
      ],
      "metadata": {
        "colab": {
          "base_uri": "https://localhost:8080/"
        },
        "id": "xFsgw1dmr8jS",
        "outputId": "7dbf58af-b03f-4133-c489-ab565b27cf74"
      },
      "execution_count": null,
      "outputs": [
        {
          "output_type": "execute_result",
          "data": {
            "text/plain": [
              "tensor([[[1., 1., 1., 1.],\n",
              "         [1., 1., 1., 1.],\n",
              "         [1., 1., 1., 1.]],\n",
              "\n",
              "        [[1., 1., 1., 1.],\n",
              "         [1., 1., 1., 1.],\n",
              "         [1., 1., 1., 1.]]])"
            ]
          },
          "metadata": {},
          "execution_count": 50
        }
      ]
    },
    {
      "cell_type": "code",
      "source": [
        "# Create a range of values 0 to 10\n",
        "zero_to_ten = torch.arange(start=0, end=10, step=1)\n",
        "zero_to_ten"
      ],
      "metadata": {
        "id": "csvUrRqKsFrj",
        "colab": {
          "base_uri": "https://localhost:8080/"
        },
        "outputId": "0bca33d9-c618-4d97-c74c-5a24ca65f58a"
      },
      "execution_count": null,
      "outputs": [
        {
          "output_type": "execute_result",
          "data": {
            "text/plain": [
              "tensor([0, 1, 2, 3, 4, 5, 6, 7, 8, 9])"
            ]
          },
          "metadata": {},
          "execution_count": 7
        }
      ]
    },
    {
      "cell_type": "code",
      "source": [
        "# Can also create a tensor of zeros similar to another tensor\n",
        "ten_zeros = torch.zeros_like(input=zero_to_ten) # will have same shape\n",
        "ten_zeros"
      ],
      "metadata": {
        "colab": {
          "base_uri": "https://localhost:8080/"
        },
        "id": "SqdKp8e9JnHO",
        "outputId": "a7aa1aec-872a-47ff-e658-de8b079dcdc2"
      },
      "execution_count": null,
      "outputs": [
        {
          "output_type": "execute_result",
          "data": {
            "text/plain": [
              "tensor([0, 0, 0, 0, 0, 0, 0, 0, 0, 0])"
            ]
          },
          "metadata": {},
          "execution_count": 8
        }
      ]
    },
    {
      "cell_type": "code",
      "source": [
        "ten_ones = torch.ones_like(input=zero_to_ten)\n",
        "ten_ones"
      ],
      "metadata": {
        "colab": {
          "base_uri": "https://localhost:8080/"
        },
        "id": "V_J8PsJMKjXR",
        "outputId": "574109c4-76c0-4fa6-dad6-c083135d55b1"
      },
      "execution_count": null,
      "outputs": [
        {
          "output_type": "execute_result",
          "data": {
            "text/plain": [
              "tensor([1, 1, 1, 1, 1, 1, 1, 1, 1, 1])"
            ]
          },
          "metadata": {},
          "execution_count": 9
        }
      ]
    },
    {
      "cell_type": "code",
      "source": [
        "# Creating a tensor from 0 to 9 as floating-point numbers\n",
        "zero_to_ten = torch.arange(start=0, end=10, step=1, dtype=torch.float32)\n",
        "\n",
        "# Creating a tensor with the same shape as zero_to_ten but filled with random numbers\n",
        "zero_to_tenten_rand = torch.rand_like(input=zero_to_ten)\n",
        "\n",
        "# Creating a tensor filled with random numbers of size 10\n",
        "ten_rand = torch.rand(10)\n",
        "\n",
        "print(zero_to_ten)\n",
        "print(zero_to_tenten_rand)\n",
        "print(ten_rand)\n"
      ],
      "metadata": {
        "colab": {
          "base_uri": "https://localhost:8080/"
        },
        "id": "zqm33-tWLZsW",
        "outputId": "53144f36-c898-4b67-8c81-5c0e0c1c67eb"
      },
      "execution_count": null,
      "outputs": [
        {
          "output_type": "stream",
          "name": "stdout",
          "text": [
            "tensor([0., 1., 2., 3., 4., 5., 6., 7., 8., 9.])\n",
            "tensor([0.7709, 0.8783, 0.6831, 0.5718, 0.0355, 0.6782, 0.0307, 0.4418, 0.6560,\n",
            "        0.1013])\n",
            "tensor([0.2384, 0.2122, 0.4659, 0.0182, 0.7646, 0.3549, 0.2720, 0.7971, 0.5192,\n",
            "        0.7264])\n"
          ]
        }
      ]
    },
    {
      "cell_type": "code",
      "source": [
        "# Default datatype for tensors is float32\n",
        "float_32_tensor = torch.tensor([3.0, 6.0, 9.0],\n",
        "                               dtype=None, # defaults to None, which is torch.float32 or whatever datatype is passed\n",
        "                               device=None, # defaults to None, which uses the default tensor type\n",
        "                               requires_grad=False) # if True, operations performed on the tensor are recorded\n",
        "\n",
        "float_32_tensor.shape, float_32_tensor.dtype, float_32_tensor.device"
      ],
      "metadata": {
        "colab": {
          "base_uri": "https://localhost:8080/"
        },
        "id": "1lbYpYzDSsh1",
        "outputId": "be4a04f8-0e72-4d66-bd8a-048fcd95c8cc"
      },
      "execution_count": null,
      "outputs": [
        {
          "output_type": "execute_result",
          "data": {
            "text/plain": [
              "(torch.Size([3]), torch.float32, device(type='cpu'))"
            ]
          },
          "metadata": {},
          "execution_count": 14
        }
      ]
    },
    {
      "cell_type": "code",
      "source": [
        "#basic operation\n",
        "tensor = torch.tensor([[[1,2,3],\n",
        "                       [4,5,6]],\n",
        "                       [[1,2,3],\n",
        "                       [4,5,6]]\n",
        "                       ])\n",
        "tensor * 10\n",
        "torch.multiply(tensor, 10)"
      ],
      "metadata": {
        "colab": {
          "base_uri": "https://localhost:8080/"
        },
        "id": "XW4EUo3QTZds",
        "outputId": "3d7ce881-3b50-4cf7-8755-e779e1fcbe84"
      },
      "execution_count": null,
      "outputs": [
        {
          "output_type": "execute_result",
          "data": {
            "text/plain": [
              "tensor([[[10, 20, 30],\n",
              "         [40, 50, 60]],\n",
              "\n",
              "        [[10, 20, 30],\n",
              "         [40, 50, 60]]])"
            ]
          },
          "metadata": {},
          "execution_count": 20
        }
      ]
    },
    {
      "cell_type": "code",
      "source": [
        "tensor + 10"
      ],
      "metadata": {
        "colab": {
          "base_uri": "https://localhost:8080/"
        },
        "id": "CHA916G7dw1F",
        "outputId": "b5243efa-99fe-4bc6-a22c-dd45e9a8b637"
      },
      "execution_count": null,
      "outputs": [
        {
          "output_type": "execute_result",
          "data": {
            "text/plain": [
              "tensor([[[11, 12, 13],\n",
              "         [14, 15, 16]],\n",
              "\n",
              "        [[11, 12, 13],\n",
              "         [14, 15, 16]]])"
            ]
          },
          "metadata": {},
          "execution_count": 21
        }
      ]
    },
    {
      "cell_type": "code",
      "source": [
        "tensor - 10"
      ],
      "metadata": {
        "colab": {
          "base_uri": "https://localhost:8080/"
        },
        "id": "nj_SVcA4d01M",
        "outputId": "643c5696-1196-42e6-a935-b61bc7c98ef4"
      },
      "execution_count": null,
      "outputs": [
        {
          "output_type": "execute_result",
          "data": {
            "text/plain": [
              "tensor([[[-9, -8, -7],\n",
              "         [-6, -5, -4]],\n",
              "\n",
              "        [[-9, -8, -7],\n",
              "         [-6, -5, -4]]])"
            ]
          },
          "metadata": {},
          "execution_count": 22
        }
      ]
    },
    {
      "cell_type": "code",
      "source": [
        "tensor / 10"
      ],
      "metadata": {
        "colab": {
          "base_uri": "https://localhost:8080/"
        },
        "id": "zZ-26iewd4h1",
        "outputId": "8dbcd503-4885-4cff-c0f3-e74a4df599bd"
      },
      "execution_count": null,
      "outputs": [
        {
          "output_type": "execute_result",
          "data": {
            "text/plain": [
              "tensor([[[0.1000, 0.2000, 0.3000],\n",
              "         [0.4000, 0.5000, 0.6000]],\n",
              "\n",
              "        [[0.1000, 0.2000, 0.3000],\n",
              "         [0.4000, 0.5000, 0.6000]]])"
            ]
          },
          "metadata": {},
          "execution_count": 24
        }
      ]
    },
    {
      "cell_type": "code",
      "source": [
        "#To perform matrix multiplication, the last dimension of tensor1 should match the second-to-last dimension of tensor2 (1st column == 2nd rows)\n",
        "#shape(no of square brackets, rows, columns)\n",
        "# no of square brackets should same\n",
        "\n",
        "batch_a = torch.randn(3, 2, 2)  # Batch of 3 matrices of size 2x2\n",
        "batch_b = torch.randn(3, 2, 2)  # Batch of 3 matrices of size 2x2\n",
        "\n",
        "# Batch matrix multiplication\n",
        "result = torch.matmul(batch_a, batch_b)\n",
        "result\n",
        "batch_a.ndim"
      ],
      "metadata": {
        "colab": {
          "base_uri": "https://localhost:8080/"
        },
        "id": "7u8fCAugeAYO",
        "outputId": "993e6857-ae81-4065-f361-3bdfc9e69429"
      },
      "execution_count": null,
      "outputs": [
        {
          "output_type": "execute_result",
          "data": {
            "text/plain": [
              "3"
            ]
          },
          "metadata": {},
          "execution_count": 10
        }
      ]
    },
    {
      "cell_type": "code",
      "source": [
        "tensor1 = [[[1,2,3], [4,5,6]]]\n",
        "tensor2 = [[[1,2],[1,3], [1,4]]]\n",
        "\n",
        "# Convert Python lists to PyTorch tensors\n",
        "tensor1 = torch.tensor(tensor1)\n",
        "tensor2 = torch.tensor(tensor2)\n",
        "\n",
        "tensor1 @ tensor2"
      ],
      "metadata": {
        "colab": {
          "base_uri": "https://localhost:8080/"
        },
        "id": "0p2sLSpFZlCe",
        "outputId": "6a987c41-89b7-4786-e618-d56b685e1837"
      },
      "execution_count": null,
      "outputs": [
        {
          "output_type": "execute_result",
          "data": {
            "text/plain": [
              "tensor([[[ 6, 20],\n",
              "         [15, 47]]])"
            ]
          },
          "metadata": {},
          "execution_count": 5
        }
      ]
    },
    {
      "cell_type": "code",
      "source": [
        "x = torch.arange(1,100,10)\n",
        "x"
      ],
      "metadata": {
        "colab": {
          "base_uri": "https://localhost:8080/"
        },
        "id": "I7ueQCAlcMYt",
        "outputId": "91f3c120-6ef8-410f-9a2e-b8c18f0de7fd"
      },
      "execution_count": null,
      "outputs": [
        {
          "output_type": "execute_result",
          "data": {
            "text/plain": [
              "tensor([ 1, 11, 21, 31, 41, 51, 61, 71, 81, 91])"
            ]
          },
          "metadata": {},
          "execution_count": 12
        }
      ]
    },
    {
      "cell_type": "markdown",
      "source": [
        "Tensor agregation"
      ],
      "metadata": {
        "id": "vr7OKDYDic2n"
      }
    },
    {
      "cell_type": "code",
      "source": [
        "torch.min(x)"
      ],
      "metadata": {
        "colab": {
          "base_uri": "https://localhost:8080/"
        },
        "id": "L6RhmIAMedXx",
        "outputId": "97d32180-85c8-46f7-dca7-534bdc57e97d"
      },
      "execution_count": null,
      "outputs": [
        {
          "output_type": "execute_result",
          "data": {
            "text/plain": [
              "tensor(1)"
            ]
          },
          "metadata": {},
          "execution_count": 14
        }
      ]
    },
    {
      "cell_type": "code",
      "source": [
        "torch.max(x) , x.max()"
      ],
      "metadata": {
        "colab": {
          "base_uri": "https://localhost:8080/"
        },
        "id": "KK-t6673emmM",
        "outputId": "ec7e454a-8d09-45b2-ab3f-25b3490257d0"
      },
      "execution_count": null,
      "outputs": [
        {
          "output_type": "execute_result",
          "data": {
            "text/plain": [
              "(tensor(91), tensor(91))"
            ]
          },
          "metadata": {},
          "execution_count": 22
        }
      ]
    },
    {
      "cell_type": "code",
      "source": [],
      "metadata": {
        "id": "4SYHOjc4eqSS"
      },
      "execution_count": null,
      "outputs": []
    },
    {
      "cell_type": "markdown",
      "source": [
        "shape - what shape is the tensor? (some operations require specific shape rules)\n",
        "dtype - what datatype are the elements within the tensor stored in?\n",
        "device - what device is the tensor stored on? (usually GPU or CPU)"
      ],
      "metadata": {
        "id": "z4v_KPzteJj2"
      }
    },
    {
      "cell_type": "code",
      "source": [
        "#means work only on floating point or complex dtype\n",
        "torch.mean(x.type(torch.float32))"
      ],
      "metadata": {
        "colab": {
          "base_uri": "https://localhost:8080/"
        },
        "id": "o_rSc6wTeL4i",
        "outputId": "644c761f-690e-439b-8bf7-01d5420f266a"
      },
      "execution_count": null,
      "outputs": [
        {
          "output_type": "execute_result",
          "data": {
            "text/plain": [
              "tensor(46.)"
            ]
          },
          "metadata": {},
          "execution_count": 17
        }
      ]
    },
    {
      "cell_type": "code",
      "source": [
        "x.sum() , torch.sum(x)"
      ],
      "metadata": {
        "colab": {
          "base_uri": "https://localhost:8080/"
        },
        "id": "IlEkaJgghlFE",
        "outputId": "f068532c-971e-4a4f-d703-c6587459cc82"
      },
      "execution_count": null,
      "outputs": [
        {
          "output_type": "execute_result",
          "data": {
            "text/plain": [
              "(tensor(460), tensor(460))"
            ]
          },
          "metadata": {},
          "execution_count": 23
        }
      ]
    },
    {
      "cell_type": "code",
      "source": [
        "#return position\n",
        "\n",
        "x.argmax()"
      ],
      "metadata": {
        "colab": {
          "base_uri": "https://localhost:8080/"
        },
        "id": "Ezahs5fJiRwk",
        "outputId": "394948b5-5fd5-42d1-fe20-fd35693592dc"
      },
      "execution_count": null,
      "outputs": [
        {
          "output_type": "execute_result",
          "data": {
            "text/plain": [
              "tensor(9)"
            ]
          },
          "metadata": {},
          "execution_count": 24
        }
      ]
    },
    {
      "cell_type": "code",
      "source": [
        "#reshape tensor\n",
        "x = torch.arange(1,13,1)\n",
        "x.reshape(3,4)\n",
        "\n",
        "z = x.view(3,4)\n",
        "z[:,0]=5\n",
        "x, z"
      ],
      "metadata": {
        "id": "xheQ0w6LjsZd",
        "colab": {
          "base_uri": "https://localhost:8080/"
        },
        "outputId": "e826107f-5192-4ce8-c7fe-5c85afb1ceab"
      },
      "execution_count": null,
      "outputs": [
        {
          "output_type": "execute_result",
          "data": {
            "text/plain": [
              "(tensor([ 5,  2,  3,  4,  5,  6,  7,  8,  5, 10, 11, 12]),\n",
              " tensor([[ 5,  2,  3,  4],\n",
              "         [ 5,  6,  7,  8],\n",
              "         [ 5, 10, 11, 12]]))"
            ]
          },
          "metadata": {},
          "execution_count": 9
        }
      ]
    },
    {
      "cell_type": "code",
      "source": [
        "# Create a tensor\n",
        "x = torch.tensor([[1, 2, 3], [4, 5, 6]])\n",
        "\n",
        "# Reshape the tensor to a different shape it is similar to reshape but not permanently assign reshape tensor to memory\n",
        "y = x.view(3, 2)\n",
        "\n",
        "print(y)\n"
      ],
      "metadata": {
        "colab": {
          "base_uri": "https://localhost:8080/"
        },
        "id": "tPfbTzkQBiZs",
        "outputId": "ec4d7538-533d-4eb5-bab5-d84abb9dcacf"
      },
      "execution_count": null,
      "outputs": [
        {
          "output_type": "stream",
          "name": "stdout",
          "text": [
            "tensor([[1, 2],\n",
            "        [3, 4],\n",
            "        [5, 6]])\n"
          ]
        }
      ]
    },
    {
      "cell_type": "code",
      "source": [
        "#view(-1) will flatten the tensor x into a 1D tensor, with the size automatically inferred to accommodate all the elements\n",
        "\n",
        "x = torch.tensor([[1, 2, 3], [4, 5, 6]])\n",
        "\n",
        "# Reshape the tensor with -1 to automatically infer size\n",
        "y = x.view(-1)\n",
        "\n",
        "print(y)"
      ],
      "metadata": {
        "colab": {
          "base_uri": "https://localhost:8080/"
        },
        "id": "xNCaoCS2Dx8G",
        "outputId": "64c95b0c-dea0-45b5-d567-0ab5dc0e934b"
      },
      "execution_count": null,
      "outputs": [
        {
          "output_type": "stream",
          "name": "stdout",
          "text": [
            "tensor([1, 2, 3, 4, 5, 6])\n"
          ]
        }
      ]
    },
    {
      "cell_type": "code",
      "source": [
        "# Create a tensor\n",
        "x = torch.tensor([[1, 2, 3], [4, 5, 6]])\n",
        "\n",
        "# Transpose the tensor\n",
        "y = x.transpose(0, 1)\n",
        "\n",
        "print(y)"
      ],
      "metadata": {
        "id": "Z_EvgYIkELC0",
        "outputId": "8596715c-7a2a-4d73-e32f-b426821dd976",
        "colab": {
          "base_uri": "https://localhost:8080/"
        }
      },
      "execution_count": null,
      "outputs": [
        {
          "output_type": "stream",
          "name": "stdout",
          "text": [
            "tensor([[1, 4],\n",
            "        [2, 5],\n",
            "        [3, 6]])\n"
          ]
        }
      ]
    },
    {
      "cell_type": "code",
      "source": [
        "#Stacking along dimension 0 combines tensors along the batch dimension.\n",
        "#Stacking along dimension 1 combines tensors along the feature or channel dimension.\n",
        "#stacking -> combine multiple tensors\n",
        "#vstack --> on top of each other dim=0\n",
        "#hstack --> side by side dim=1\n",
        "x = torch.arange(1,13,1)\n",
        "stacked = torch.stack([x,x,x], dim=-1)\n",
        "stacked"
      ],
      "metadata": {
        "id": "M-krRHaqkKrW",
        "colab": {
          "base_uri": "https://localhost:8080/"
        },
        "outputId": "0737fde7-72d4-475e-de64-42d6f535ed80"
      },
      "execution_count": null,
      "outputs": [
        {
          "output_type": "execute_result",
          "data": {
            "text/plain": [
              "tensor([[ 1,  1,  1],\n",
              "        [ 2,  2,  2],\n",
              "        [ 3,  3,  3],\n",
              "        [ 4,  4,  4],\n",
              "        [ 5,  5,  5],\n",
              "        [ 6,  6,  6],\n",
              "        [ 7,  7,  7],\n",
              "        [ 8,  8,  8],\n",
              "        [ 9,  9,  9],\n",
              "        [10, 10, 10],\n",
              "        [11, 11, 11],\n",
              "        [12, 12, 12]])"
            ]
          },
          "metadata": {},
          "execution_count": 17
        }
      ]
    },
    {
      "cell_type": "code",
      "source": [
        "#Squeezes input to remove all the dimenions with value 1\n",
        "x = torch.randn(1, 3, 1, 4)\n",
        "x\n",
        "y = torch.squeeze(x)\n",
        "y"
      ],
      "metadata": {
        "colab": {
          "base_uri": "https://localhost:8080/"
        },
        "id": "juW06vXNlom6",
        "outputId": "6293d32f-2cda-4751-a32e-ea0659361c0e"
      },
      "execution_count": null,
      "outputs": [
        {
          "output_type": "execute_result",
          "data": {
            "text/plain": [
              "tensor([[-1.1316, -0.1743,  0.4644, -1.3234],\n",
              "        [-1.8652, -0.8235,  0.6533,  2.0771],\n",
              "        [-0.7976,  1.0081,  0.8850, -0.1559]])"
            ]
          },
          "metadata": {},
          "execution_count": 25
        }
      ]
    },
    {
      "cell_type": "code",
      "source": [
        "#only the third dimension (index 2) is squeezed because it has a size of 1\n",
        "x = torch.randn(1, 3, 1, 4)\n",
        "y = torch.squeeze(x, dim=2)\n",
        "y"
      ],
      "metadata": {
        "colab": {
          "base_uri": "https://localhost:8080/"
        },
        "id": "Tyd_v8nCniPU",
        "outputId": "0ac7d42e-0ed0-4d7a-fc99-7540f20d2fee"
      },
      "execution_count": null,
      "outputs": [
        {
          "output_type": "execute_result",
          "data": {
            "text/plain": [
              "tensor([[[ 0.5666,  0.0849,  1.8524, -0.0665],\n",
              "         [-2.2076, -0.1963, -0.5524, -0.6595],\n",
              "         [-1.3359,  0.2774,  0.7163,  1.3213]]])"
            ]
          },
          "metadata": {},
          "execution_count": 26
        }
      ]
    },
    {
      "cell_type": "code",
      "source": [
        "#dimensions 0 and 2 are squeezed, while dimension index 1 remains intact because it does not have size 1\n",
        "x = torch.randn(1, 3, 1, 4)\n",
        "y = torch.squeeze(x, dim=(0, 2))\n",
        "print(y.shape)  # Output: (3, 4)\n"
      ],
      "metadata": {
        "id": "6JvQwIwcoFaj"
      },
      "execution_count": null,
      "outputs": []
    },
    {
      "cell_type": "code",
      "source": [
        "#dimensions change (different view of the original tensor)\n",
        "#swapped the dimension\n",
        "#the dimensions of y are rearranged such that the original dimension 1 becomes dimension 0, the original dimension 2 becomes dimension 1, and the original dimension 0 becomes dimension 2.\n",
        "x = torch.randn(2, 3, 4)\n",
        "x\n",
        "y = x.permute(1, 2, 0)\n",
        "y[0][1][0]"
      ],
      "metadata": {
        "colab": {
          "base_uri": "https://localhost:8080/"
        },
        "id": "jM8HBTfmo-DG",
        "outputId": "9382a793-f64d-4266-863f-a27a6a67243a"
      },
      "execution_count": null,
      "outputs": [
        {
          "output_type": "execute_result",
          "data": {
            "text/plain": [
              "tensor(-0.2036)"
            ]
          },
          "metadata": {},
          "execution_count": 35
        }
      ]
    },
    {
      "cell_type": "code",
      "source": [
        "x_original = torch.rand(size=(224,224,3))\n",
        "x_permuted = x_original.permute(2,0,1)\n",
        "print(f\"previous shape: {x_permuted.shape}\"), print(f\"permuted shape: {x_permuted.shape}\")"
      ],
      "metadata": {
        "id": "d35OQ5XaqyFy",
        "colab": {
          "base_uri": "https://localhost:8080/"
        },
        "outputId": "d09e7fef-de73-4821-ad8a-b1f435a8b120"
      },
      "execution_count": null,
      "outputs": [
        {
          "output_type": "stream",
          "name": "stdout",
          "text": [
            "previous shape: torch.Size([3, 224, 224])\n",
            "permuted shape: torch.Size([3, 224, 224])\n"
          ]
        },
        {
          "output_type": "execute_result",
          "data": {
            "text/plain": [
              "(None, None)"
            ]
          },
          "metadata": {},
          "execution_count": 5
        }
      ]
    },
    {
      "cell_type": "code",
      "source": [
        "#Indexing\n",
        "x = torch.tensor([\n",
        "    [\n",
        "      [1,2,3],\n",
        "      [4,5,6],\n",
        "      [7,8,9]\n",
        "    ],\n",
        "    [\n",
        "      [1,2,3],\n",
        "      [4,5,6],\n",
        "      [6,7,8]\n",
        "    ]\n",
        "                  ])\n",
        "x.shape\n",
        "\n",
        "# 1st square, all, second\n",
        "x[1,:,2]\n",
        "\n",
        "#all, all, second\n",
        "x[:,:, 2]\n",
        "\n",
        "#9 0f 1st\n",
        "x[0,2,2]"
      ],
      "metadata": {
        "colab": {
          "base_uri": "https://localhost:8080/"
        },
        "id": "O_9ptfrN32I0",
        "outputId": "0062f002-5dbb-4d4f-df09-9be6eed22f95"
      },
      "execution_count": null,
      "outputs": [
        {
          "output_type": "execute_result",
          "data": {
            "text/plain": [
              "tensor(9)"
            ]
          },
          "metadata": {},
          "execution_count": 10
        }
      ]
    },
    {
      "cell_type": "code",
      "source": [
        "#reproducebility\n",
        "#to reduce randomeness in neural network\n",
        "RANDOM_SEED = 42\n",
        "torch.manual_seed(RANDOM_SEED)\n",
        "x= torch.rand(3,4)\n",
        "torch.manual_seed(RANDOM_SEED)\n",
        "y= torch.rand(3,4)\n",
        "print(x)\n",
        "print(y)\n",
        "print(x==y)"
      ],
      "metadata": {
        "colab": {
          "base_uri": "https://localhost:8080/"
        },
        "id": "qgi_8FtgLW6F",
        "outputId": "da109c2e-5a96-403d-f3f9-5cdcb11f3442"
      },
      "execution_count": null,
      "outputs": [
        {
          "output_type": "stream",
          "name": "stdout",
          "text": [
            "tensor([[0.8823, 0.9150, 0.3829, 0.9593],\n",
            "        [0.3904, 0.6009, 0.2566, 0.7936],\n",
            "        [0.9408, 0.1332, 0.9346, 0.5936]])\n",
            "tensor([[0.8823, 0.9150, 0.3829, 0.9593],\n",
            "        [0.3904, 0.6009, 0.2566, 0.7936],\n",
            "        [0.9408, 0.1332, 0.9346, 0.5936]])\n",
            "tensor([[True, True, True, True],\n",
            "        [True, True, True, True],\n",
            "        [True, True, True, True]])\n"
          ]
        }
      ]
    },
    {
      "cell_type": "code",
      "source": [
        "device = \"cuda\" if torch.cuda.is_available() else \"cpu\"\n",
        "device"
      ],
      "metadata": {
        "colab": {
          "base_uri": "https://localhost:8080/",
          "height": 35
        },
        "id": "s60ejpZgdDdE",
        "outputId": "15abf1b6-f5a4-4c56-93be-a8ec4c821c58"
      },
      "execution_count": null,
      "outputs": [
        {
          "output_type": "execute_result",
          "data": {
            "text/plain": [
              "'cuda'"
            ],
            "application/vnd.google.colaboratory.intrinsic+json": {
              "type": "string"
            }
          },
          "metadata": {},
          "execution_count": 2
        }
      ]
    },
    {
      "cell_type": "code",
      "source": [
        "torch.cuda.device_count()"
      ],
      "metadata": {
        "colab": {
          "base_uri": "https://localhost:8080/"
        },
        "id": "HHM06ChAe3aG",
        "outputId": "02e13e94-0763-4f47-ce75-e8b3472d3365"
      },
      "execution_count": null,
      "outputs": [
        {
          "output_type": "execute_result",
          "data": {
            "text/plain": [
              "1"
            ]
          },
          "metadata": {},
          "execution_count": 3
        }
      ]
    },
    {
      "cell_type": "code",
      "source": [
        "tensor = torch.tensor([1,2,3])\n",
        "tensor.device"
      ],
      "metadata": {
        "colab": {
          "base_uri": "https://localhost:8080/"
        },
        "id": "41trwD3OfNfG",
        "outputId": "64dc828d-7b66-47a9-f1a8-85c8c40cb634"
      },
      "execution_count": null,
      "outputs": [
        {
          "output_type": "execute_result",
          "data": {
            "text/plain": [
              "device(type='cpu')"
            ]
          },
          "metadata": {},
          "execution_count": 4
        }
      ]
    },
    {
      "cell_type": "code",
      "source": [
        "tensor_on_gpu = tensor.to(device)\n",
        "tensor_on_gpu"
      ],
      "metadata": {
        "colab": {
          "base_uri": "https://localhost:8080/"
        },
        "id": "OLV2FmVciPau",
        "outputId": "69bf4379-395d-4deb-a67f-23a16056284c"
      },
      "execution_count": null,
      "outputs": [
        {
          "output_type": "execute_result",
          "data": {
            "text/plain": [
              "tensor([1, 2, 3], device='cuda:0')"
            ]
          },
          "metadata": {},
          "execution_count": 5
        }
      ]
    }
  ]
}