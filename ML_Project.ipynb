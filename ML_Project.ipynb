{
  "nbformat": 4,
  "nbformat_minor": 0,
  "metadata": {
    "colab": {
      "provenance": [],
      "include_colab_link": true
    },
    "kernelspec": {
      "name": "python3",
      "display_name": "Python 3"
    },
    "language_info": {
      "name": "python"
    }
  },
  "cells": [
    {
      "cell_type": "markdown",
      "metadata": {
        "id": "view-in-github",
        "colab_type": "text"
      },
      "source": [
        "<a href=\"https://colab.research.google.com/github/mariya347/MachineLearning/blob/main/ML_Project.ipynb\" target=\"_parent\"><img src=\"https://colab.research.google.com/assets/colab-badge.svg\" alt=\"Open In Colab\"/></a>"
      ]
    },
    {
      "cell_type": "markdown",
      "source": [
        "## **Project – 1**\n",
        "Part (a) Regression\n",
        "\n",
        "*   Bone marrow transplant: children Dataset\n",
        "\n"
      ],
      "metadata": {
        "id": "kULFy7XAGVj4"
      }
    },
    {
      "cell_type": "code",
      "source": [
        "!pip install liac-arff"
      ],
      "metadata": {
        "colab": {
          "base_uri": "https://localhost:8080/"
        },
        "id": "IlAfVU5pYfXc",
        "outputId": "92cec840-a1d6-4a82-90e4-c54ae5c212f2"
      },
      "execution_count": null,
      "outputs": [
        {
          "output_type": "stream",
          "name": "stdout",
          "text": [
            "Requirement already satisfied: liac-arff in /usr/local/lib/python3.10/dist-packages (2.5.0)\n"
          ]
        }
      ]
    },
    {
      "cell_type": "code",
      "source": [
        "pip install tabulate"
      ],
      "metadata": {
        "colab": {
          "base_uri": "https://localhost:8080/"
        },
        "id": "0WJxskkT-GSl",
        "outputId": "86965bfd-d346-468f-e300-e4604b723c46"
      },
      "execution_count": null,
      "outputs": [
        {
          "output_type": "stream",
          "name": "stdout",
          "text": [
            "Requirement already satisfied: tabulate in /usr/local/lib/python3.10/dist-packages (0.9.0)\n"
          ]
        }
      ]
    },
    {
      "cell_type": "code",
      "source": [
        "from google.colab import drive\n",
        "drive.mount('/content/drive')"
      ],
      "metadata": {
        "colab": {
          "base_uri": "https://localhost:8080/"
        },
        "id": "pwiTyHjVWZuN",
        "outputId": "a8336888-b2ce-40dc-e76f-c7247a926dfc"
      },
      "execution_count": null,
      "outputs": [
        {
          "output_type": "stream",
          "name": "stdout",
          "text": [
            "Drive already mounted at /content/drive; to attempt to forcibly remount, call drive.mount(\"/content/drive\", force_remount=True).\n"
          ]
        }
      ]
    },
    {
      "cell_type": "markdown",
      "source": [
        " **Import necessary libraries**"
      ],
      "metadata": {
        "id": "kKQyRMj7Gkzf"
      }
    },
    {
      "cell_type": "code",
      "source": [
        "import arff\n",
        "import matplotlib.pyplot as plt\n",
        "import pandas as pd\n",
        "import numpy as np\n",
        "from tabulate import tabulate\n",
        "from sklearn.model_selection import KFold, RandomizedSearchCV\n",
        "from sklearn.linear_model import LinearRegression\n",
        "from sklearn.ensemble import RandomForestRegressor\n",
        "from sklearn.svm import SVR\n",
        "from sklearn.ensemble import GradientBoostingRegressor\n",
        "from sklearn.metrics import mean_squared_error, mean_absolute_error, r2_score, mean_absolute_percentage_error"
      ],
      "metadata": {
        "id": "API9i2NhZMGe"
      },
      "execution_count": null,
      "outputs": []
    },
    {
      "cell_type": "markdown",
      "source": [
        "**Load the dataset from ARFF file**"
      ],
      "metadata": {
        "id": "MhlFpuzFH5J0"
      }
    },
    {
      "cell_type": "code",
      "source": [
        "def load_arff(file_path):\n",
        "    with open(file_path, 'r') as f:\n",
        "        dataset = arff.load(f)\n",
        "    return dataset"
      ],
      "metadata": {
        "id": "zysuMtnxZU41"
      },
      "execution_count": null,
      "outputs": []
    },
    {
      "cell_type": "markdown",
      "source": [
        "**Convert ARFF data to pandas DataFrame**"
      ],
      "metadata": {
        "id": "hthC-TQRQnyr"
      }
    },
    {
      "cell_type": "code",
      "source": [
        "def arff_to_dataframe(dataset):\n",
        "    data = np.array(dataset['data'])\n",
        "    attributes = [attr[0] for attr in dataset['attributes']]\n",
        "    df = pd.DataFrame(data, columns=attributes)\n",
        "    return df"
      ],
      "metadata": {
        "id": "_KwKoj0JZbC6"
      },
      "execution_count": null,
      "outputs": []
    },
    {
      "cell_type": "markdown",
      "source": [
        "**File path in Google Drive**"
      ],
      "metadata": {
        "id": "elvVd8PFQwKu"
      }
    },
    {
      "cell_type": "code",
      "source": [
        "file_path = '/content/drive/MyDrive/bone-marrow.arff'"
      ],
      "metadata": {
        "id": "duphrS3gZgTE"
      },
      "execution_count": null,
      "outputs": []
    },
    {
      "cell_type": "markdown",
      "source": [
        "**Load the dataset**"
      ],
      "metadata": {
        "id": "eV-dX9dnSKpD"
      }
    },
    {
      "cell_type": "code",
      "source": [
        "dataset = load_arff(file_path)\n",
        "dataFrame = arff_to_dataframe(dataset)"
      ],
      "metadata": {
        "id": "9wRgMO8wZnxN"
      },
      "execution_count": null,
      "outputs": []
    },
    {
      "cell_type": "code",
      "source": [
        "dataFrame.head()"
      ],
      "metadata": {
        "colab": {
          "base_uri": "https://localhost:8080/",
          "height": 256
        },
        "id": "QzGnxecYaJJk",
        "outputId": "41e068ca-871b-4ab5-b944-f6424bbd91ec"
      },
      "execution_count": null,
      "outputs": [
        {
          "output_type": "execute_result",
          "data": {
            "text/plain": [
              "  Recipientgender Stemcellsource   Donorage Donorage35 IIIV Gendermatch  \\\n",
              "0               1              1  22.830137          0    1           0   \n",
              "1               1              0  23.342466          0    1           0   \n",
              "2               1              0  26.394521          0    1           0   \n",
              "3               0              0  39.684932          1    1           0   \n",
              "4               0              1  33.358904          0    0           0   \n",
              "\n",
              "  DonorABO RecipientABO RecipientRh ABOmatch  ... extcGvHD CD34kgx10d6  \\\n",
              "0        1            1           1        0  ...        1         7.2   \n",
              "1       -1           -1           1        0  ...        1         4.5   \n",
              "2       -1           -1           1        0  ...        1        7.94   \n",
              "3        1            2           1        1  ...     None        4.25   \n",
              "4        1            2           0        1  ...        1       51.85   \n",
              "\n",
              "    CD3dCD34 CD3dkgx10d8 Rbodymass ANCrecovery PLTrecovery  \\\n",
              "0    1.33876        5.38      35.0        19.0        51.0   \n",
              "1  11.078295        0.41      20.6        16.0        37.0   \n",
              "2   19.01323        0.42      23.4        23.0        20.0   \n",
              "3  29.481647        0.14      50.0        23.0        29.0   \n",
              "4   3.972255       13.05       9.0        14.0        14.0   \n",
              "\n",
              "  time_to_aGvHD_III_IV survival_time survival_status  \n",
              "0                 32.0         999.0             0.0  \n",
              "1            1000000.0         163.0             1.0  \n",
              "2            1000000.0         435.0             1.0  \n",
              "3                 19.0          53.0             1.0  \n",
              "4            1000000.0        2043.0             0.0  \n",
              "\n",
              "[5 rows x 37 columns]"
            ],
            "text/html": [
              "\n",
              "  <div id=\"df-5aaf32ac-b253-4421-93e6-de19d0509fe9\" class=\"colab-df-container\">\n",
              "    <div>\n",
              "<style scoped>\n",
              "    .dataframe tbody tr th:only-of-type {\n",
              "        vertical-align: middle;\n",
              "    }\n",
              "\n",
              "    .dataframe tbody tr th {\n",
              "        vertical-align: top;\n",
              "    }\n",
              "\n",
              "    .dataframe thead th {\n",
              "        text-align: right;\n",
              "    }\n",
              "</style>\n",
              "<table border=\"1\" class=\"dataframe\">\n",
              "  <thead>\n",
              "    <tr style=\"text-align: right;\">\n",
              "      <th></th>\n",
              "      <th>Recipientgender</th>\n",
              "      <th>Stemcellsource</th>\n",
              "      <th>Donorage</th>\n",
              "      <th>Donorage35</th>\n",
              "      <th>IIIV</th>\n",
              "      <th>Gendermatch</th>\n",
              "      <th>DonorABO</th>\n",
              "      <th>RecipientABO</th>\n",
              "      <th>RecipientRh</th>\n",
              "      <th>ABOmatch</th>\n",
              "      <th>...</th>\n",
              "      <th>extcGvHD</th>\n",
              "      <th>CD34kgx10d6</th>\n",
              "      <th>CD3dCD34</th>\n",
              "      <th>CD3dkgx10d8</th>\n",
              "      <th>Rbodymass</th>\n",
              "      <th>ANCrecovery</th>\n",
              "      <th>PLTrecovery</th>\n",
              "      <th>time_to_aGvHD_III_IV</th>\n",
              "      <th>survival_time</th>\n",
              "      <th>survival_status</th>\n",
              "    </tr>\n",
              "  </thead>\n",
              "  <tbody>\n",
              "    <tr>\n",
              "      <th>0</th>\n",
              "      <td>1</td>\n",
              "      <td>1</td>\n",
              "      <td>22.830137</td>\n",
              "      <td>0</td>\n",
              "      <td>1</td>\n",
              "      <td>0</td>\n",
              "      <td>1</td>\n",
              "      <td>1</td>\n",
              "      <td>1</td>\n",
              "      <td>0</td>\n",
              "      <td>...</td>\n",
              "      <td>1</td>\n",
              "      <td>7.2</td>\n",
              "      <td>1.33876</td>\n",
              "      <td>5.38</td>\n",
              "      <td>35.0</td>\n",
              "      <td>19.0</td>\n",
              "      <td>51.0</td>\n",
              "      <td>32.0</td>\n",
              "      <td>999.0</td>\n",
              "      <td>0.0</td>\n",
              "    </tr>\n",
              "    <tr>\n",
              "      <th>1</th>\n",
              "      <td>1</td>\n",
              "      <td>0</td>\n",
              "      <td>23.342466</td>\n",
              "      <td>0</td>\n",
              "      <td>1</td>\n",
              "      <td>0</td>\n",
              "      <td>-1</td>\n",
              "      <td>-1</td>\n",
              "      <td>1</td>\n",
              "      <td>0</td>\n",
              "      <td>...</td>\n",
              "      <td>1</td>\n",
              "      <td>4.5</td>\n",
              "      <td>11.078295</td>\n",
              "      <td>0.41</td>\n",
              "      <td>20.6</td>\n",
              "      <td>16.0</td>\n",
              "      <td>37.0</td>\n",
              "      <td>1000000.0</td>\n",
              "      <td>163.0</td>\n",
              "      <td>1.0</td>\n",
              "    </tr>\n",
              "    <tr>\n",
              "      <th>2</th>\n",
              "      <td>1</td>\n",
              "      <td>0</td>\n",
              "      <td>26.394521</td>\n",
              "      <td>0</td>\n",
              "      <td>1</td>\n",
              "      <td>0</td>\n",
              "      <td>-1</td>\n",
              "      <td>-1</td>\n",
              "      <td>1</td>\n",
              "      <td>0</td>\n",
              "      <td>...</td>\n",
              "      <td>1</td>\n",
              "      <td>7.94</td>\n",
              "      <td>19.01323</td>\n",
              "      <td>0.42</td>\n",
              "      <td>23.4</td>\n",
              "      <td>23.0</td>\n",
              "      <td>20.0</td>\n",
              "      <td>1000000.0</td>\n",
              "      <td>435.0</td>\n",
              "      <td>1.0</td>\n",
              "    </tr>\n",
              "    <tr>\n",
              "      <th>3</th>\n",
              "      <td>0</td>\n",
              "      <td>0</td>\n",
              "      <td>39.684932</td>\n",
              "      <td>1</td>\n",
              "      <td>1</td>\n",
              "      <td>0</td>\n",
              "      <td>1</td>\n",
              "      <td>2</td>\n",
              "      <td>1</td>\n",
              "      <td>1</td>\n",
              "      <td>...</td>\n",
              "      <td>None</td>\n",
              "      <td>4.25</td>\n",
              "      <td>29.481647</td>\n",
              "      <td>0.14</td>\n",
              "      <td>50.0</td>\n",
              "      <td>23.0</td>\n",
              "      <td>29.0</td>\n",
              "      <td>19.0</td>\n",
              "      <td>53.0</td>\n",
              "      <td>1.0</td>\n",
              "    </tr>\n",
              "    <tr>\n",
              "      <th>4</th>\n",
              "      <td>0</td>\n",
              "      <td>1</td>\n",
              "      <td>33.358904</td>\n",
              "      <td>0</td>\n",
              "      <td>0</td>\n",
              "      <td>0</td>\n",
              "      <td>1</td>\n",
              "      <td>2</td>\n",
              "      <td>0</td>\n",
              "      <td>1</td>\n",
              "      <td>...</td>\n",
              "      <td>1</td>\n",
              "      <td>51.85</td>\n",
              "      <td>3.972255</td>\n",
              "      <td>13.05</td>\n",
              "      <td>9.0</td>\n",
              "      <td>14.0</td>\n",
              "      <td>14.0</td>\n",
              "      <td>1000000.0</td>\n",
              "      <td>2043.0</td>\n",
              "      <td>0.0</td>\n",
              "    </tr>\n",
              "  </tbody>\n",
              "</table>\n",
              "<p>5 rows × 37 columns</p>\n",
              "</div>\n",
              "    <div class=\"colab-df-buttons\">\n",
              "\n",
              "  <div class=\"colab-df-container\">\n",
              "    <button class=\"colab-df-convert\" onclick=\"convertToInteractive('df-5aaf32ac-b253-4421-93e6-de19d0509fe9')\"\n",
              "            title=\"Convert this dataframe to an interactive table.\"\n",
              "            style=\"display:none;\">\n",
              "\n",
              "  <svg xmlns=\"http://www.w3.org/2000/svg\" height=\"24px\" viewBox=\"0 -960 960 960\">\n",
              "    <path d=\"M120-120v-720h720v720H120Zm60-500h600v-160H180v160Zm220 220h160v-160H400v160Zm0 220h160v-160H400v160ZM180-400h160v-160H180v160Zm440 0h160v-160H620v160ZM180-180h160v-160H180v160Zm440 0h160v-160H620v160Z\"/>\n",
              "  </svg>\n",
              "    </button>\n",
              "\n",
              "  <style>\n",
              "    .colab-df-container {\n",
              "      display:flex;\n",
              "      gap: 12px;\n",
              "    }\n",
              "\n",
              "    .colab-df-convert {\n",
              "      background-color: #E8F0FE;\n",
              "      border: none;\n",
              "      border-radius: 50%;\n",
              "      cursor: pointer;\n",
              "      display: none;\n",
              "      fill: #1967D2;\n",
              "      height: 32px;\n",
              "      padding: 0 0 0 0;\n",
              "      width: 32px;\n",
              "    }\n",
              "\n",
              "    .colab-df-convert:hover {\n",
              "      background-color: #E2EBFA;\n",
              "      box-shadow: 0px 1px 2px rgba(60, 64, 67, 0.3), 0px 1px 3px 1px rgba(60, 64, 67, 0.15);\n",
              "      fill: #174EA6;\n",
              "    }\n",
              "\n",
              "    .colab-df-buttons div {\n",
              "      margin-bottom: 4px;\n",
              "    }\n",
              "\n",
              "    [theme=dark] .colab-df-convert {\n",
              "      background-color: #3B4455;\n",
              "      fill: #D2E3FC;\n",
              "    }\n",
              "\n",
              "    [theme=dark] .colab-df-convert:hover {\n",
              "      background-color: #434B5C;\n",
              "      box-shadow: 0px 1px 3px 1px rgba(0, 0, 0, 0.15);\n",
              "      filter: drop-shadow(0px 1px 2px rgba(0, 0, 0, 0.3));\n",
              "      fill: #FFFFFF;\n",
              "    }\n",
              "  </style>\n",
              "\n",
              "    <script>\n",
              "      const buttonEl =\n",
              "        document.querySelector('#df-5aaf32ac-b253-4421-93e6-de19d0509fe9 button.colab-df-convert');\n",
              "      buttonEl.style.display =\n",
              "        google.colab.kernel.accessAllowed ? 'block' : 'none';\n",
              "\n",
              "      async function convertToInteractive(key) {\n",
              "        const element = document.querySelector('#df-5aaf32ac-b253-4421-93e6-de19d0509fe9');\n",
              "        const dataTable =\n",
              "          await google.colab.kernel.invokeFunction('convertToInteractive',\n",
              "                                                    [key], {});\n",
              "        if (!dataTable) return;\n",
              "\n",
              "        const docLinkHtml = 'Like what you see? Visit the ' +\n",
              "          '<a target=\"_blank\" href=https://colab.research.google.com/notebooks/data_table.ipynb>data table notebook</a>'\n",
              "          + ' to learn more about interactive tables.';\n",
              "        element.innerHTML = '';\n",
              "        dataTable['output_type'] = 'display_data';\n",
              "        await google.colab.output.renderOutput(dataTable, element);\n",
              "        const docLink = document.createElement('div');\n",
              "        docLink.innerHTML = docLinkHtml;\n",
              "        element.appendChild(docLink);\n",
              "      }\n",
              "    </script>\n",
              "  </div>\n",
              "\n",
              "\n",
              "<div id=\"df-a3a4ae11-361e-4759-8272-515013decc33\">\n",
              "  <button class=\"colab-df-quickchart\" onclick=\"quickchart('df-a3a4ae11-361e-4759-8272-515013decc33')\"\n",
              "            title=\"Suggest charts\"\n",
              "            style=\"display:none;\">\n",
              "\n",
              "<svg xmlns=\"http://www.w3.org/2000/svg\" height=\"24px\"viewBox=\"0 0 24 24\"\n",
              "     width=\"24px\">\n",
              "    <g>\n",
              "        <path d=\"M19 3H5c-1.1 0-2 .9-2 2v14c0 1.1.9 2 2 2h14c1.1 0 2-.9 2-2V5c0-1.1-.9-2-2-2zM9 17H7v-7h2v7zm4 0h-2V7h2v10zm4 0h-2v-4h2v4z\"/>\n",
              "    </g>\n",
              "</svg>\n",
              "  </button>\n",
              "\n",
              "<style>\n",
              "  .colab-df-quickchart {\n",
              "      --bg-color: #E8F0FE;\n",
              "      --fill-color: #1967D2;\n",
              "      --hover-bg-color: #E2EBFA;\n",
              "      --hover-fill-color: #174EA6;\n",
              "      --disabled-fill-color: #AAA;\n",
              "      --disabled-bg-color: #DDD;\n",
              "  }\n",
              "\n",
              "  [theme=dark] .colab-df-quickchart {\n",
              "      --bg-color: #3B4455;\n",
              "      --fill-color: #D2E3FC;\n",
              "      --hover-bg-color: #434B5C;\n",
              "      --hover-fill-color: #FFFFFF;\n",
              "      --disabled-bg-color: #3B4455;\n",
              "      --disabled-fill-color: #666;\n",
              "  }\n",
              "\n",
              "  .colab-df-quickchart {\n",
              "    background-color: var(--bg-color);\n",
              "    border: none;\n",
              "    border-radius: 50%;\n",
              "    cursor: pointer;\n",
              "    display: none;\n",
              "    fill: var(--fill-color);\n",
              "    height: 32px;\n",
              "    padding: 0;\n",
              "    width: 32px;\n",
              "  }\n",
              "\n",
              "  .colab-df-quickchart:hover {\n",
              "    background-color: var(--hover-bg-color);\n",
              "    box-shadow: 0 1px 2px rgba(60, 64, 67, 0.3), 0 1px 3px 1px rgba(60, 64, 67, 0.15);\n",
              "    fill: var(--button-hover-fill-color);\n",
              "  }\n",
              "\n",
              "  .colab-df-quickchart-complete:disabled,\n",
              "  .colab-df-quickchart-complete:disabled:hover {\n",
              "    background-color: var(--disabled-bg-color);\n",
              "    fill: var(--disabled-fill-color);\n",
              "    box-shadow: none;\n",
              "  }\n",
              "\n",
              "  .colab-df-spinner {\n",
              "    border: 2px solid var(--fill-color);\n",
              "    border-color: transparent;\n",
              "    border-bottom-color: var(--fill-color);\n",
              "    animation:\n",
              "      spin 1s steps(1) infinite;\n",
              "  }\n",
              "\n",
              "  @keyframes spin {\n",
              "    0% {\n",
              "      border-color: transparent;\n",
              "      border-bottom-color: var(--fill-color);\n",
              "      border-left-color: var(--fill-color);\n",
              "    }\n",
              "    20% {\n",
              "      border-color: transparent;\n",
              "      border-left-color: var(--fill-color);\n",
              "      border-top-color: var(--fill-color);\n",
              "    }\n",
              "    30% {\n",
              "      border-color: transparent;\n",
              "      border-left-color: var(--fill-color);\n",
              "      border-top-color: var(--fill-color);\n",
              "      border-right-color: var(--fill-color);\n",
              "    }\n",
              "    40% {\n",
              "      border-color: transparent;\n",
              "      border-right-color: var(--fill-color);\n",
              "      border-top-color: var(--fill-color);\n",
              "    }\n",
              "    60% {\n",
              "      border-color: transparent;\n",
              "      border-right-color: var(--fill-color);\n",
              "    }\n",
              "    80% {\n",
              "      border-color: transparent;\n",
              "      border-right-color: var(--fill-color);\n",
              "      border-bottom-color: var(--fill-color);\n",
              "    }\n",
              "    90% {\n",
              "      border-color: transparent;\n",
              "      border-bottom-color: var(--fill-color);\n",
              "    }\n",
              "  }\n",
              "</style>\n",
              "\n",
              "  <script>\n",
              "    async function quickchart(key) {\n",
              "      const quickchartButtonEl =\n",
              "        document.querySelector('#' + key + ' button');\n",
              "      quickchartButtonEl.disabled = true;  // To prevent multiple clicks.\n",
              "      quickchartButtonEl.classList.add('colab-df-spinner');\n",
              "      try {\n",
              "        const charts = await google.colab.kernel.invokeFunction(\n",
              "            'suggestCharts', [key], {});\n",
              "      } catch (error) {\n",
              "        console.error('Error during call to suggestCharts:', error);\n",
              "      }\n",
              "      quickchartButtonEl.classList.remove('colab-df-spinner');\n",
              "      quickchartButtonEl.classList.add('colab-df-quickchart-complete');\n",
              "    }\n",
              "    (() => {\n",
              "      let quickchartButtonEl =\n",
              "        document.querySelector('#df-a3a4ae11-361e-4759-8272-515013decc33 button');\n",
              "      quickchartButtonEl.style.display =\n",
              "        google.colab.kernel.accessAllowed ? 'block' : 'none';\n",
              "    })();\n",
              "  </script>\n",
              "</div>\n",
              "\n",
              "    </div>\n",
              "  </div>\n"
            ],
            "application/vnd.google.colaboratory.intrinsic+json": {
              "type": "dataframe",
              "variable_name": "dataFrame"
            }
          },
          "metadata": {},
          "execution_count": 47
        }
      ]
    },
    {
      "cell_type": "code",
      "source": [
        "dataFrame.shape"
      ],
      "metadata": {
        "id": "7vNdRU8bcU_G",
        "colab": {
          "base_uri": "https://localhost:8080/"
        },
        "outputId": "457fd2f9-4377-4fc4-a5ad-3effdb387104"
      },
      "execution_count": null,
      "outputs": [
        {
          "output_type": "execute_result",
          "data": {
            "text/plain": [
              "(187, 37)"
            ]
          },
          "metadata": {},
          "execution_count": 48
        }
      ]
    },
    {
      "cell_type": "code",
      "source": [
        "dataFrame.isnull().sum()"
      ],
      "metadata": {
        "id": "si3my0YQd9kT",
        "colab": {
          "base_uri": "https://localhost:8080/"
        },
        "outputId": "84f3bdb4-538b-412b-c203-3738dac23cec"
      },
      "execution_count": null,
      "outputs": [
        {
          "output_type": "execute_result",
          "data": {
            "text/plain": [
              "Recipientgender          0\n",
              "Stemcellsource           0\n",
              "Donorage                 0\n",
              "Donorage35               0\n",
              "IIIV                     0\n",
              "Gendermatch              0\n",
              "DonorABO                 0\n",
              "RecipientABO             1\n",
              "RecipientRh              2\n",
              "ABOmatch                 1\n",
              "CMVstatus               16\n",
              "DonorCMV                 2\n",
              "RecipientCMV            14\n",
              "Disease                  0\n",
              "Riskgroup                0\n",
              "Txpostrelapse            0\n",
              "Diseasegroup             0\n",
              "HLAmatch                 0\n",
              "HLAmismatch              0\n",
              "Antigen                  1\n",
              "Alel                     1\n",
              "HLAgrI                   0\n",
              "Recipientage             0\n",
              "Recipientage10           0\n",
              "Recipientageint          0\n",
              "Relapse                  0\n",
              "aGvHDIIIIV               0\n",
              "extcGvHD                31\n",
              "CD34kgx10d6              0\n",
              "CD3dCD34                 5\n",
              "CD3dkgx10d8              5\n",
              "Rbodymass                2\n",
              "ANCrecovery              0\n",
              "PLTrecovery              0\n",
              "time_to_aGvHD_III_IV     0\n",
              "survival_time            0\n",
              "survival_status          0\n",
              "dtype: int64"
            ]
          },
          "metadata": {},
          "execution_count": 49
        }
      ]
    },
    {
      "cell_type": "markdown",
      "source": [
        "**Data Preprocessing**"
      ],
      "metadata": {
        "id": "P44WIb_pSxK4"
      }
    },
    {
      "cell_type": "code",
      "source": [
        "# Replace '?' with NaN\n",
        "dataFrame.replace('?', np.nan, inplace=True)\n",
        "\n",
        "# Convert all columns to numeric where possible, leaving others as is\n",
        "dataFrame = dataFrame.apply(pd.to_numeric, errors='ignore')\n",
        "\n",
        "# Replace NaN values with zero\n",
        "dataFrame.fillna(0, inplace=True)\n",
        "\n",
        "# Convert numerical columns to float\n",
        "for col in dataFrame.columns:\n",
        "    if dataFrame[col].dtype == 'object':\n",
        "        try:\n",
        "            dataFrame[col] = dataFrame[col].astype(float)\n",
        "        except ValueError:\n",
        "            pass\n",
        "\n",
        "# Convert categorical columns to numeric using pd.get_dummies\n",
        "dataFrame = pd.get_dummies(dataFrame, drop_first=True)\n",
        "\n",
        "# Check for any remaining NaN values (should be none)\n",
        "missing_values = dataFrame.isna().sum()\n",
        "\n",
        "# Check the shape of the dataframe after preprocessing\n",
        "print(f\"DataFrame shape after preprocessing: {dataFrame.shape}\")"
      ],
      "metadata": {
        "id": "GLx-Dh4QgLAG",
        "colab": {
          "base_uri": "https://localhost:8080/"
        },
        "outputId": "4a73d068-2dab-47a6-e5f7-9254fe9a0f39"
      },
      "execution_count": null,
      "outputs": [
        {
          "output_type": "stream",
          "name": "stdout",
          "text": [
            "DataFrame shape after preprocessing: (187, 40)\n"
          ]
        }
      ]
    },
    {
      "cell_type": "code",
      "source": [
        "print(missing_values)"
      ],
      "metadata": {
        "colab": {
          "base_uri": "https://localhost:8080/"
        },
        "id": "yALquymR3dtx",
        "outputId": "a6852e0c-826a-4fff-c9c7-bb2b1417e0ea"
      },
      "execution_count": null,
      "outputs": [
        {
          "output_type": "stream",
          "name": "stdout",
          "text": [
            "Recipientgender         0\n",
            "Stemcellsource          0\n",
            "Donorage                0\n",
            "Donorage35              0\n",
            "IIIV                    0\n",
            "Gendermatch             0\n",
            "DonorABO                0\n",
            "RecipientABO            0\n",
            "RecipientRh             0\n",
            "ABOmatch                0\n",
            "CMVstatus               0\n",
            "DonorCMV                0\n",
            "RecipientCMV            0\n",
            "Riskgroup               0\n",
            "Txpostrelapse           0\n",
            "Diseasegroup            0\n",
            "HLAmatch                0\n",
            "HLAmismatch             0\n",
            "Antigen                 0\n",
            "Alel                    0\n",
            "HLAgrI                  0\n",
            "Recipientage            0\n",
            "Recipientage10          0\n",
            "Recipientageint         0\n",
            "Relapse                 0\n",
            "aGvHDIIIIV              0\n",
            "extcGvHD                0\n",
            "CD34kgx10d6             0\n",
            "CD3dCD34                0\n",
            "CD3dkgx10d8             0\n",
            "Rbodymass               0\n",
            "ANCrecovery             0\n",
            "PLTrecovery             0\n",
            "time_to_aGvHD_III_IV    0\n",
            "survival_time           0\n",
            "survival_status         0\n",
            "Disease_AML             0\n",
            "Disease_chronic         0\n",
            "Disease_lymphoma        0\n",
            "Disease_nonmalignant    0\n",
            "dtype: int64\n"
          ]
        }
      ]
    },
    {
      "cell_type": "code",
      "source": [
        "# Extract features and target\n",
        "X= dataFrame.drop(columns=['survival_time','survival_status'], axis=1)\n",
        "y = dataFrame['survival_time']"
      ],
      "metadata": {
        "id": "uvyB-w8IeEra"
      },
      "execution_count": null,
      "outputs": []
    },
    {
      "cell_type": "markdown",
      "source": [
        " **Split the data into training and testing sets**"
      ],
      "metadata": {
        "id": "wbkLlmuDwuSD"
      }
    },
    {
      "cell_type": "code",
      "source": [
        "X_train, X_test, y_train, y_test = train_test_split(X, y, test_size=0.2, random_state=42)"
      ],
      "metadata": {
        "id": "2QeQ9VOZeYTo"
      },
      "execution_count": null,
      "outputs": []
    },
    {
      "cell_type": "markdown",
      "source": [
        "**Model Training and Evaluation**\n",
        "\n",
        "*   **Hold-out Method**\n",
        "\n"
      ],
      "metadata": {
        "id": "JtUgVWLJwy7V"
      }
    },
    {
      "cell_type": "code",
      "source": [
        "def evaluate_regression(y_true, y_pred):\n",
        "\n",
        "  mse = mean_squared_error(y_true, y_pred)\n",
        "  rmse = np.sqrt(mse)\n",
        "  mae = mean_absolute_error(y_true, y_pred)\n",
        "  r2 = r2_score(y_true, y_pred)\n",
        "\n",
        "  return mse, rmse, mae, r2\n"
      ],
      "metadata": {
        "id": "5fuPbGUKOHCC"
      },
      "execution_count": null,
      "outputs": []
    },
    {
      "cell_type": "code",
      "source": [
        "# Define the models\n",
        "models = {\n",
        "    'Linear Regression': LinearRegression(),\n",
        "    'Random Forest': RandomForestRegressor(),\n",
        "    'SVM': SVR(),\n",
        "    'Gradient Boosting': GradientBoostingRegressor()\n",
        "}\n",
        "\n",
        "# Initialize a list to store holdout results\n",
        "result_table_holdout = []\n",
        "\n",
        "# Iterate over each model\n",
        "for name, model in models.items():\n",
        "    # Split data into train and test sets\n",
        "    X_train, X_test, y_train, y_test = train_test_split(X, y, test_size=0.2, random_state=42)\n",
        "\n",
        "    # Fit the model on training data\n",
        "    model.fit(X_train, y_train)\n",
        "\n",
        "    # Predict on the test data\n",
        "    y_pred = model.predict(X_test)\n",
        "\n",
        "    # Evaluate regression metrics\n",
        "    mse, rmse, mae, r2 = evaluate_regression(y_test, y_pred)\n",
        "\n",
        "    # Append results rounded to 2 decimal places\n",
        "    result_table_holdout.append({\n",
        "        'Algorithm Name': name,\n",
        "        'MAE': round(mae, 2),\n",
        "        'MSE': round(mse, 2),\n",
        "        'RMSE': round(rmse, 2),\n",
        "        'r2_score': round(r2, 2)\n",
        "    })\n",
        "\n",
        "# Convert holdout results to DataFrame\n",
        "result_table_holdout = pd.DataFrame(result_table_holdout)\n",
        "\n",
        "table = tabulate(result_table_holdout, headers='keys', tablefmt='pretty')\n",
        "print(table)"
      ],
      "metadata": {
        "id": "0imP83YhObmu",
        "colab": {
          "base_uri": "https://localhost:8080/"
        },
        "outputId": "a2dc2356-b1fe-4137-9b10-95839024ecb3"
      },
      "execution_count": null,
      "outputs": [
        {
          "output_type": "stream",
          "name": "stdout",
          "text": [
            "+---+-------------------+--------+------------+---------+----------+\n",
            "|   |  Algorithm Name   |  MAE   |    MSE     |  RMSE   | r2_score |\n",
            "+---+-------------------+--------+------------+---------+----------+\n",
            "| 0 | Linear Regression | 740.77 | 777308.02  | 881.65  |   0.16   |\n",
            "| 1 |   Random Forest   | 709.92 | 734067.67  | 856.78  |   0.2    |\n",
            "| 2 |        SVM        | 845.83 | 1204535.99 | 1097.51 |  -0.31   |\n",
            "| 3 | Gradient Boosting | 693.03 | 715640.46  | 845.96  |   0.22   |\n",
            "+---+-------------------+--------+------------+---------+----------+\n"
          ]
        }
      ]
    },
    {
      "cell_type": "markdown",
      "source": [
        "**Visualization**"
      ],
      "metadata": {
        "id": "XtHjLXxV_vKQ"
      }
    },
    {
      "cell_type": "code",
      "source": [
        "\n",
        "metrics = ['MAE', 'MSE', 'RMSE', 'r2_score']\n",
        "\n",
        "fig, axes = plt.subplots(nrows=2, ncols=2, figsize=(8, 6))\n",
        "\n",
        "for i, metric in enumerate(metrics):\n",
        "    ax = axes[i // 2, i % 2]\n",
        "    result_table_holdout.plot(x='Algorithm Name', y=metric, kind='bar', ax=ax, width=0.5, color='darkblue', edgecolor='black')\n",
        "    ax.set_title(metric, fontsize=12, fontweight='bold')\n",
        "    ax.set_xlabel('')\n",
        "    ax.set_ylabel(metric)\n",
        "    ax.set_xticklabels(result_table_holdout['Algorithm Name'], rotation=45, ha='right', fontsize=8)\n",
        "\n",
        "plt.tight_layout(pad=2.0)\n",
        "\n",
        "plt.show()\n",
        "\n"
      ],
      "metadata": {
        "id": "6E2BZItU_Q9W",
        "colab": {
          "base_uri": "https://localhost:8080/",
          "height": 581
        },
        "outputId": "8f6de323-b39d-4a55-a4b8-31f47fcdccc5"
      },
      "execution_count": null,
      "outputs": [
        {
          "output_type": "display_data",
          "data": {
            "text/plain": [
              "<Figure size 800x600 with 4 Axes>"
            ],
            "image/png": "[encoded data removed]"
          },
          "metadata": {}
        }
      ]
    },
    {
      "cell_type": "markdown",
      "source": [
        "**Cross-validation k-fold method**"
      ],
      "metadata": {
        "id": "c0Wvr5tLxves"
      }
    },
    {
      "cell_type": "code",
      "source": [
        "# Define the models\n",
        "models = {\n",
        "    'Linear Regression': LinearRegression(),\n",
        "    'Random Forest': RandomForestRegressor(),\n",
        "    'SVM': SVR(),\n",
        "    'Gradient Boosting': GradientBoostingRegressor()\n",
        "}\n",
        "\n",
        "# Initialize a list to store results\n",
        "result_table_kfold = []\n",
        "\n",
        "# Define the number of folds for cross-validation\n",
        "num_folds = 5\n",
        "kf = KFold(n_splits=num_folds, shuffle=True, random_state=42)\n",
        "\n",
        "# Define a function to evaluate regression metrics including MDA\n",
        "def evaluate_regression(y_true, y_pred):\n",
        "    mse = mean_squared_error(y_true, y_pred)\n",
        "    rmse = np.sqrt(mse)\n",
        "    mae = mean_absolute_error(y_true, y_pred)\n",
        "    r2 = r2_score(y_true, y_pred)\n",
        "    mape = mean_absolute_percentage_error(y_true, y_pred) * 100  # Percentage error\n",
        "\n",
        "    # Mean Directional Accuracy (MDA)\n",
        "    mda = np.mean(np.sign(y_true - y_pred) == np.sign(y_true - np.mean(y_true))) * 100\n",
        "\n",
        "    return mse, rmse, mae, r2, mape, mda\n",
        "\n",
        "# Perform k-fold cross-validation for each model\n",
        "for name, model in models.items():\n",
        "    mse_scores = []\n",
        "    rmse_scores = []\n",
        "    mae_scores = []\n",
        "    r2_scores = []\n",
        "    mape_scores = []\n",
        "    mda_scores = []\n",
        "\n",
        "    for train_index, test_index in kf.split(X):\n",
        "        X_train, X_test = X.iloc[train_index], X.iloc[test_index]\n",
        "        y_train, y_test = y.iloc[train_index], y.iloc[test_index]\n",
        "\n",
        "        model.fit(X_train, y_train)\n",
        "        y_pred = model.predict(X_test)\n",
        "\n",
        "        # Evaluate metrics\n",
        "        mse, rmse, mae, r2, mape, mda = evaluate_regression(y_test, y_pred)\n",
        "\n",
        "        # Store scores for each fold\n",
        "        mse_scores.append(mse)\n",
        "        rmse_scores.append(rmse)\n",
        "        mae_scores.append(mae)\n",
        "        r2_scores.append(r2)\n",
        "        mape_scores.append(mape)\n",
        "        mda_scores.append(mda)\n",
        "\n",
        "    # Compute mean scores across folds\n",
        "    mean_mse = np.mean(mse_scores)\n",
        "    mean_rmse = np.mean(rmse_scores)\n",
        "    mean_mae = np.mean(mae_scores)\n",
        "    mean_r2 = np.mean(r2_scores)\n",
        "    mean_mape = np.mean(mape_scores)\n",
        "    mean_mda = np.mean(mda_scores)\n",
        "\n",
        "    # Append results to the result_table_kfold\n",
        "    result_table_kfold.append({\n",
        "        'Algorithm Name': name,\n",
        "        'Mean MAE': round(mean_mae, 2),\n",
        "        'Mean MSE': round(mean_mse, 2),\n",
        "        'Mean RMSE': round(mean_rmse, 2),\n",
        "        'Mean r2_score': round(mean_r2, 2),\n",
        "        'Mean MAPE': round(mean_mape, 2),\n",
        "        'Mean MDA': round(mean_mda, 2)\n",
        "    })\n",
        "\n",
        "# Convert result_table_kfold to DataFrame\n",
        "result_table_kfold = pd.DataFrame(result_table_kfold)\n",
        "\n",
        "table = tabulate(result_table_kfold, headers='keys', tablefmt='pretty')\n",
        "print(table)"
      ],
      "metadata": {
        "id": "b18nhPJs_RSi",
        "colab": {
          "base_uri": "https://localhost:8080/"
        },
        "outputId": "9c08b6e8-b3bc-40b0-8af8-e7d2511264c9"
      },
      "execution_count": null,
      "outputs": [
        {
          "output_type": "stream",
          "name": "stdout",
          "text": [
            "+---+-------------------+----------+-----------+-----------+---------------+-----------+----------+\n",
            "|   |  Algorithm Name   | Mean MAE | Mean MSE  | Mean RMSE | Mean r2_score | Mean MAPE | Mean MDA |\n",
            "+---+-------------------+----------+-----------+-----------+---------------+-----------+----------+\n",
            "| 0 | Linear Regression |  628.59  | 608998.94 |   777.2   |      0.1      |  393.32   |  80.75   |\n",
            "| 1 |   Random Forest   |  636.67  | 631909.43 |  791.71   |     0.05      |  373.74   |  89.29   |\n",
            "| 2 |        SVM        |  711.28  | 803512.47 |  883.13   |     -0.13     |  442.43   |  92.01   |\n",
            "| 3 | Gradient Boosting |  657.8   | 713353.52 |  839.89   |     -0.09     |  371.39   |  86.59   |\n",
            "+---+-------------------+----------+-----------+-----------+---------------+-----------+----------+\n"
          ]
        }
      ]
    },
    {
      "cell_type": "code",
      "source": [
        "metrics = ['Mean MAE', 'Mean MSE', 'Mean RMSE', 'Mean r2_score', 'Mean MAPE', 'Mean MDA']\n",
        "\n",
        "fig, axes = plt.subplots(nrows=2, ncols=3, figsize=(12, 8))\n",
        "\n",
        "for i, metric in enumerate(metrics):\n",
        "    ax = axes[i // 3, i % 3]\n",
        "    result_table_kfold.plot(x='Algorithm Name', y=metric, kind='bar', ax=ax, width=0.5, color='darkblue', edgecolor='black')\n",
        "    ax.set_title(metric, fontsize=12, fontweight='bold')\n",
        "    ax.set_xlabel('')\n",
        "    ax.set_ylabel(metric)\n",
        "    ax.set_xticklabels(result_table_kfold['Algorithm Name'], rotation=45, ha='right', fontsize=8)\n",
        "\n",
        "plt.tight_layout(pad=2.0)\n",
        "plt.show()\n"
      ],
      "metadata": {
        "colab": {
          "base_uri": "https://localhost:8080/",
          "height": 781
        },
        "id": "_pG03wk5__BV",
        "outputId": "4ebbd5dd-a340-4184-c344-b0a001547061"
      },
      "execution_count": null,
      "outputs": [
        {
          "output_type": "display_data",
          "data": {
            "text/plain": [
              "<Figure size 1200x800 with 6 Axes>"
            ],
            "image/png": "[encoded data removed]"
          },
          "metadata": {}
        }
      ]
    },
    {
      "cell_type": "markdown",
      "source": [
        "**Cross-validation k-fold method and the algorithm run on the best parameter (hyper-parameter).**"
      ],
      "metadata": {
        "id": "g8iAdvYzpynw"
      }
    },
    {
      "cell_type": "code",
      "source": [
        "# Define a function for k-fold cross-validation with random search\n",
        "def kfold_cross_validation(model, X, y, hyperparameters, n_splits=5):\n",
        "    kf = KFold(n_splits=n_splits, shuffle=True, random_state=42)\n",
        "    results = []\n",
        "\n",
        "    for train_index, val_index in kf.split(X):\n",
        "        X_train, X_val = X[train_index], X[val_index]\n",
        "        y_train, y_val = y[train_index], y[val_index]\n",
        "\n",
        "        # Setup random search cross-validation\n",
        "        random_search = RandomizedSearchCV(estimator=model, param_distributions=hyperparameters,\n",
        "                                           n_iter=10, scoring='neg_mean_squared_error',\n",
        "                                           cv=3, verbose=1, random_state=42)\n",
        "\n",
        "        # Fit random search\n",
        "        random_search.fit(X_train, y_train)\n",
        "\n",
        "        # Predict on validation set\n",
        "        y_pred = random_search.best_estimator_.predict(X_val)\n",
        "\n",
        "        # Calculate evaluation metrics\n",
        "        mse = mean_squared_error(y_val, y_pred)\n",
        "        rmse = np.sqrt(mse)\n",
        "        mae = mean_absolute_error(y_val, y_pred)\n",
        "        r2 = r2_score(y_val, y_pred)\n",
        "\n",
        "        # Calculate MAPE (Mean Absolute Percentage Error)\n",
        "        mape = np.mean(np.abs((y_val - y_pred) / y_val)) * 100\n",
        "\n",
        "        # Calculate MDA (Mean Directional Accuracy)\n",
        "        mda = 100 * np.sum((y_pred[1:] - y_pred[:-1]) * (y_val[1:] - y_val[:-1]) > 0) / len(y_pred)\n",
        "\n",
        "        results.append({\n",
        "            'MSE': mse,\n",
        "            'RMSE': rmse,\n",
        "            'MAE': mae,\n",
        "            'R2': r2,\n",
        "            'MAPE': mape,\n",
        "            'MDA': mda\n",
        "        })\n",
        "\n",
        "    # Calculate average metrics across all folds\n",
        "    avg_results = {\n",
        "        'MSE': np.mean([result['MSE'] for result in results]),\n",
        "        'RMSE': np.mean([result['RMSE'] for result in results]),\n",
        "        'MAE': np.mean([result['MAE'] for result in results]),\n",
        "        'R2': np.mean([result['R2'] for result in results]),\n",
        "        'MAPE': np.mean([result['MAPE'] for result in results]),\n",
        "        'MDA': np.mean([result['MDA'] for result in results])\n",
        "    }\n",
        "\n",
        "    return avg_results\n",
        "\n",
        "# Example data (replace with your data)\n",
        "X = np.random.rand(100, 10)  # Example feature matrix\n",
        "y = np.random.rand(100)     # Example target variable\n",
        "\n",
        "# Define hyperparameters for each algorithm\n",
        "linear_params = {}  # No hyperparameters for Linear Regression\n",
        "rf_params = {\n",
        "    'n_estimators': [50, 100, 200],\n",
        "    'max_depth': [None, 10, 20],\n",
        "    'min_samples_split': [2, 5, 10]\n",
        "}\n",
        "svm_params = {\n",
        "    'kernel': ['linear', 'rbf', 'poly'],\n",
        "    'C': np.logspace(-3, 2, 6),\n",
        "    'gamma': ['scale', 'auto']\n",
        "}\n",
        "gb_params = {\n",
        "    'n_estimators': [50, 100, 200],\n",
        "    'max_depth': [3, 5, 10],\n",
        "    'learning_rate': [0.01, 0.1, 0.5]\n",
        "}\n",
        "\n",
        "# Initialize models\n",
        "models = {\n",
        "    'Linear Regression': LinearRegression(),\n",
        "    'Random Forest': RandomForestRegressor(),\n",
        "    'SVM': SVR(),\n",
        "    'Gradient Boosting': GradientBoostingRegressor()\n",
        "}\n",
        "\n",
        "# Perform k-fold cross-validation for each algorithm and store results\n",
        "results = []\n",
        "for name, model in models.items():\n",
        "    if name == 'Linear Regression':\n",
        "        hyperparams = linear_params\n",
        "    elif name == 'Random Forest':\n",
        "        hyperparams = rf_params\n",
        "    elif name == 'SVM':\n",
        "        hyperparams = svm_params\n",
        "    elif name == 'Gradient Boosting':\n",
        "        hyperparams = gb_params\n",
        "\n",
        "    avg_results = kfold_cross_validation(model, X, y, hyperparams)\n",
        "    avg_results['Algorithm Name'] = name\n",
        "    results.append(avg_results)\n",
        "\n",
        "# Convert results to DataFrame\n",
        "result_df = pd.DataFrame(results)"
      ],
      "metadata": {
        "id": "gQLMsxI0XJf2"
      },
      "execution_count": null,
      "outputs": []
    },
    {
      "cell_type": "code",
      "source": [
        "# Reorder columns as per the table format\n",
        "result_df = result_df[['Algorithm Name', 'MAE', 'MSE', 'RMSE', 'R2', 'MAPE', 'MDA']]\n",
        "\n",
        "# Add a column for Sno (Serial Number)\n",
        "result_df.insert(0, 'Sno', range(1, len(result_df) + 1))\n",
        "\n",
        "# Print the final table using tabulate\n",
        "print(\"Table-3: Performance Metrics of Different Algorithms using k-fold Cross-Validation and Random Search\")\n",
        "print(tabulate(result_df, headers='keys', tablefmt='psql', showindex=False))"
      ],
      "metadata": {
        "colab": {
          "base_uri": "https://localhost:8080/"
        },
        "id": "XzYIOWg9XqPs",
        "outputId": "166ef2b0-fc40-4e27-d073-388cec70aaf9"
      },
      "execution_count": null,
      "outputs": [
        {
          "output_type": "stream",
          "name": "stdout",
          "text": [
            "Table-3: Performance Metrics of Different Algorithms using k-fold Cross-Validation and Random Search\n",
            "+-------+-------------------+----------+-----------+----------+-----------+---------+-------+\n",
            "|   Sno | Algorithm Name    |      MAE |       MSE |     RMSE |        R2 |    MAPE |   MDA |\n",
            "|-------+-------------------+----------+-----------+----------+-----------+---------+-------|\n",
            "|     1 | Linear Regression | 0.25723  | 0.086564  | 0.292263 | -0.211202 | 144.833 |    55 |\n",
            "|     2 | Random Forest     | 0.253961 | 0.0888207 | 0.296242 | -0.245992 | 148.225 |    52 |\n",
            "|     3 | SVM               | 0.248658 | 0.0842868 | 0.288212 | -0.18019  | 162.915 |    51 |\n",
            "|     4 | Gradient Boosting | 0.247993 | 0.0819664 | 0.284936 | -0.154519 | 152.323 |    47 |\n",
            "+-------+-------------------+----------+-----------+----------+-----------+---------+-------+\n"
          ]
        }
      ]
    }
  ]
}